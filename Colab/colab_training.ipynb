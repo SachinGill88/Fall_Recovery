{
 "cells": [
  {
   "cell_type": "code",
   "execution_count": null,
   "id": "f1ed00b8",
   "metadata": {},
   "outputs": [],
   "source": [
    "# Simplified setup for Colab - need this as colab resets environment every runtime \n",
    "from google.colab import drive\n",
    "drive.mount('/content/drive')\n",
    "\n",
    "# Install just the essentials\n",
    "!pip install -q mujoco\n",
    "!pip install -q stable-baselines3\n",
    "!pip install -q gymnasium\n",
    "!pip install -q wandb\n",
    "\n",
    "# Set environment variables\n",
    "import os\n",
    "os.environ[\"MUJOCO_GL\"] = \"osmesa\"\n",
    "os.environ[\"PYOPENGL_PLATFORM\"] = \"osmesa\"\n",
    "\n",
    "print(\"Setup complete!\")"
   ]
  },
  {
   "cell_type": "code",
   "execution_count": null,
   "id": "f790a164",
   "metadata": {},
   "outputs": [
    {
     "name": "stdout",
     "output_type": "stream",
     "text": [
      "MuJoCo version: 3.3.5\n",
      "PyTorch version: 2.8.0+cpu\n",
      "CUDA available: False\n",
      "Stable-Baselines3 version: 2.7.0\n",
      "Gymnasium version: 1.2.0\n"
     ]
    }
   ],
   "source": [
    "## Then we get the versions to confirm everything is correct\n",
    "import mujoco\n",
    "import torch\n",
    "import stable_baselines3\n",
    "import gymnasium\n",
    "\n",
    "print(f\"MuJoCo: {mujoco.__version__}\")\n",
    "print(f\"PyTorch: {torch.__version__}\")\n",
    "print(f\"CUDA available: {torch.cuda.is_available()}\")\n",
    "print(f\"SB3: {stable_baselines3.__version__}\")\n",
    "print(f\"Gymnasium: {gymnasium.__version__}\")\n",
    "\n",
    "if torch.cuda.is_available():\n",
    "    print(f\"GPU: {torch.cuda.get_device_name()}\")\n",
    "    print(f\"GPU Memory: {torch.cuda.get_device_properties(0).total_memory / 1e9:.1f} GB\")"
   ]
  },
  {
   "cell_type": "code",
   "execution_count": null,
   "id": "a70fae72",
   "metadata": {},
   "outputs": [
    {
     "name": "stdout",
     "output_type": "stream",
     "text": [
      "Upload your UCR v0H project files:\n",
      "1. Upload all your .py files (ucr_fall_env.py, ucr_v0h_config.py, etc.)\n",
      "2. Upload your model folder with the XML and mesh files\n",
      "3. Run the cells below\n"
     ]
    },
    {
     "name": "stderr",
     "output_type": "stream",
     "text": [
      "The syntax of the command is incorrect.\n",
      "The syntax of the command is incorrect.\n"
     ]
    }
   ],
   "source": [
    "# Checking file paths\n",
    "import sys\n",
    "sys.path.append('/content/ucr_project')\n",
    "\n",
    "# Test imports\n",
    "try:\n",
    "    from ucr_v0h_config import UCRv0HConfig\n",
    "    from ucr_fall_env import UCRFallRecoveryEnv\n",
    "    from rl_training_setup import UCRTrainer\n",
    "    print(\" All UCR modules imported successfully!\")\n",
    "\n",
    "    # Test model path\n",
    "    import os\n",
    "    model_path = \"/content/model/mjcf/xml/v0H_pos.xml\"\n",
    "    if os.path.exists(model_path):\n",
    "        print(f\" Model file found: {model_path}\")\n",
    "    else:\n",
    "        print(f\"Model file missing: {model_path}\")\n",
    "\n",
    "    # Check mesh files\n",
    "    mesh_path = \"/content/model/mjcf/mesh\"\n",
    "    if os.path.exists(mesh_path):\n",
    "        mesh_folders = [f for f in os.listdir(mesh_path) if os.path.isdir(os.path.join(mesh_path, f))]\n",
    "        print(f\"Mesh folders found: {mesh_folders}\")\n",
    "\n",
    "    print(\"Setup verification complete!\")\n",
    "\n",
    "except ImportError as e:\n",
    "    print(f\" Import error: {e}\")\n",
    "    print(\"Make sure all Python files are uploaded to /content/ucr_project/\")"
   ]
  },
  {
   "cell_type": "code",
   "execution_count": null,
   "id": "e48283ae",
   "metadata": {},
   "outputs": [],
   "source": [
    "# Get T4-optimized config\n",
    "config = UCRv0HConfig.get_training_config(\"stage1\")\n",
    "\n",
    "# Update the model path to match your setup\n",
    "config[\"model_path\"] = \"/content/model/mjcf/xml/v0H_pos.xml\"\n",
    "\n",
    "# Optimize for T4 GPU (15.8GB memory)\n",
    "config.update({\n",
    "    \"n_envs\": 8,  # Good for T4\n",
    "    \"device\": \"cuda\",\n",
    "    \"stage1_timesteps\": 800000,  # Reasonable for Colab session\n",
    "    \"max_episode_steps\": 400,\n",
    "    \"use_wandb\": False,  # Skip for now\n",
    "    \"save_freq\": 25000,\n",
    "    \"eval_freq\": 15000,\n",
    "})\n",
    "\n",
    "print(f\"Training config:\")\n",
    "print(f\"  Environments: {config['n_envs']}\")\n",
    "print(f\"  Timesteps: {config['stage1_timesteps']:,}\")\n",
    "print(f\"  Device: {config['device']}\")\n",
    "print(f\"  Model: {config['model_path']}\")\n",
    "\n",
    "# Test environment creation first\n",
    "print(\"\\nTesting environment creation...\")\n",
    "test_env = UCRFallRecoveryEnv(\n",
    "    model_path=config[\"model_path\"],\n",
    "    max_episode_steps=100,\n",
    "    training_stage=\"stage1\"\n",
    ")\n",
    "obs, info = test_env.reset()\n",
    "print(f\"Environment test successful! Observation shape: {obs.shape}\")\n",
    "test_env.close()\n",
    "\n",
    "# Initialize trainer\n",
    "print(\"Initializing trainer...\")\n",
    "trainer = UCRTrainer(config)\n",
    "\n",
    "# Start training\n",
    "print(\"Starting Stage 1 training...\")\n",
    "print(\"This will take approximately 2-3 hours on T4 GPU\")\n",
    "trainer.train_stage1()"
   ]
  }
 ],
 "metadata": {
  "kernelspec": {
   "display_name": ".UCRvenv",
   "language": "python",
   "name": "python3"
  },
  "language_info": {
   "codemirror_mode": {
    "name": "ipython",
    "version": 3
   },
   "file_extension": ".py",
   "mimetype": "text/x-python",
   "name": "python",
   "nbconvert_exporter": "python",
   "pygments_lexer": "ipython3",
   "version": "3.11.5"
  }
 },
 "nbformat": 4,
 "nbformat_minor": 5
}
